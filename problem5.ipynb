{
  "nbformat": 4,
  "nbformat_minor": 0,
  "metadata": {
    "colab": {
      "name": "problem5.ipynb",
      "version": "0.3.2",
      "provenance": [],
      "include_colab_link": true
    },
    "kernelspec": {
      "name": "python3",
      "display_name": "Python 3"
    }
  },
  "cells": [
    {
      "cell_type": "markdown",
      "metadata": {
        "id": "view-in-github",
        "colab_type": "text"
      },
      "source": [
        "<a href=\"https://colab.research.google.com/github/richardwsnyder/CAP-5610/blob/master/problem5.ipynb\" target=\"_parent\"><img src=\"https://colab.research.google.com/assets/colab-badge.svg\" alt=\"Open In Colab\"/></a>"
      ]
    },
    {
      "metadata": {
        "id": "pnGqJ-mLT-G6",
        "colab_type": "code",
        "colab": {}
      },
      "cell_type": "code",
      "source": [
        "# utilizing the union-find algorithms defined by \n",
        "# Arup Guha at http://www.cs.ucf.edu/~dmarino/ucf/cop3503/sampleprogs/djset.java\n",
        "\n",
        "import numpy as np\n",
        "import tensorflow as tf\n",
        "import math\n",
        "import matplotlib.pyplot as plt\n",
        "import random\n",
        "from tensorflow.keras.datasets import mnist\n",
        "from tensorflow.keras.utils import to_categorical"
      ],
      "execution_count": 0,
      "outputs": []
    },
    {
      "metadata": {
        "id": "ISq1kcnbUCJQ",
        "colab_type": "code",
        "colab": {}
      },
      "cell_type": "code",
      "source": [
        "# initialize visited array to show that no\n",
        "# pixel has been visited\n",
        "visited = [0] * 784\n",
        "\n",
        "# each parent is assumed to be set to 0\n",
        "parents = [0] * 784\n",
        "\n",
        "# load mnist data\n",
        "(x_train, y_train), (x_test, y_test) = mnist.load_data()\n",
        "\n",
        "# number of images, rows and columns in each image\n",
        "image_count, rows, cols = x_train.shape"
      ],
      "execution_count": 0,
      "outputs": []
    },
    {
      "metadata": {
        "id": "dqfDO6gRUMlk",
        "colab_type": "code",
        "colab": {}
      },
      "cell_type": "code",
      "source": [
        "# normalize the dataset so that pixel values are between\n",
        "# 0 and 1\n",
        "x_train = tf.keras.utils.normalize(x_train, axis = 1)\n",
        "x_test = tf.keras.utils.normalize(x_test, axis = 1)\n",
        "\n",
        "# make a new set that is manipulable\n",
        "x_train_ = x_train\n",
        "x_test_ = x_test\n",
        "\n",
        "# if a pixel value is greater than zero, \n",
        "# set it to one for further computation\n",
        "x_train_[x_train_ > 0] = 1\n",
        "x_test_[x_test_ > 0] = 1"
      ],
      "execution_count": 0,
      "outputs": []
    },
    {
      "metadata": {
        "id": "8aXGsx6BUOxX",
        "colab_type": "code",
        "colab": {}
      },
      "cell_type": "code",
      "source": [
        "# find algorithm defined by Arup Guha\n",
        "def find(v): \n",
        "\tif(parents[v] == v):\n",
        "\t\treturn v;\n",
        "\tres = find(parents[v])\n",
        "\tparents[v] = res\n",
        "\treturn res;"
      ],
      "execution_count": 0,
      "outputs": []
    },
    {
      "metadata": {
        "id": "pdK0WfigUP-Y",
        "colab_type": "code",
        "colab": {}
      },
      "cell_type": "code",
      "source": [
        "# run dfs on the image\n",
        "def dfs(x, i, j):\n",
        "\tglobal visited\n",
        "\tglobal parents\n",
        "\n",
        "\t# create two disparity vectors that correspond\n",
        "\t# to the differnece in position. Will correlate to \n",
        "\t# moving left, right, up, and down\n",
        "\tdx = [0, 1, 0, -1]\n",
        "\tdy = [1, 0, -1, 0]\n",
        "\n",
        "\t# index of current pixel in the visited and \n",
        "\t# parents array\n",
        "\tcurrent_pixel = (i * rows) + j\n",
        "\n",
        "\t# you're at the image, so set it's visited \n",
        "\t# boolean to true\n",
        "\tvisited[current_pixel] = 1\n",
        "\n",
        "\t# if the pixel is black, then set the parent\n",
        "\t# value to -1 because it is not considered\n",
        "\t# a white region\n",
        "\tif x[i][j] == 1:\n",
        "\t\tparents[current_pixel] = -1\n",
        "\t\treturn\n",
        "\n",
        "\t# else, you must go to the pixel to the left, right\n",
        "\t# up, and down from it\n",
        "\tfor n in range(4):\n",
        "\t\tnew_x = j + dx[n]\n",
        "\t\tnew_y = i + dy[n]\n",
        "\n",
        "\t\t# get the next pixel that you're moving to\n",
        "\t\tnext_pixel = (i * rows) + j + (cols * dy[n]) + dx[n]\n",
        "\n",
        "\t\t# if the new pixel is in bounds and it's black, \n",
        "\t\t# set the parents cell to -1\n",
        "\t\tif 0 <= new_y < rows and 0 <= new_x < cols:\n",
        "\t\t\tif x[new_y][new_x] == 1:\n",
        "\t\t\t\tparents[next_pixel] = -1\n",
        "\n",
        "\t\t# else, if you haven't visited the pixel and it's a white \n",
        "\t\t# pixel, run dfs on that\n",
        "\t\tif 0 <= new_y < rows and 0 <= new_x < cols:\n",
        "\t\t\tif x[new_y][new_x] == 0 and visited[next_pixel] == 0:\n",
        "\t\t\t\tparents[next_pixel] = find(current_pixel)\n",
        "\t\t\t\tdfs(x, new_y, new_x)"
      ],
      "execution_count": 0,
      "outputs": []
    },
    {
      "metadata": {
        "id": "D2mFzj4tUUao",
        "colab_type": "code",
        "colab": {}
      },
      "cell_type": "code",
      "source": [
        "# run dfs on all pixels, so long as they haven't been visited\n",
        "def djset(x):\n",
        "\tfor i in range(28):\n",
        "\t\tfor j in range(28):\n",
        "\t\t\tcurrent_pixel = (i * rows) + j\n",
        "\t\t\tif visited[current_pixel] == 0:\n",
        "\t\t\t\tdfs(x, i, j)\n",
        "\n",
        "\treturn len(np.unique(parents)) - 1"
      ],
      "execution_count": 0,
      "outputs": []
    },
    {
      "metadata": {
        "id": "JyBR-UqqUWtz",
        "colab_type": "code",
        "colab": {}
      },
      "cell_type": "code",
      "source": [
        "# append the calculated regions value to the image's \n",
        "# input vector\n",
        "def add_features(train, test):\n",
        "\tfor q in range(image_count):\n",
        "\t\tnp.append(train[q], djset(x_train_[q]))\n",
        "\n",
        "\tfor q in range(10000):\n",
        "\t\tnp.append(x_test[q], djset(x_test_[q]))"
      ],
      "execution_count": 0,
      "outputs": []
    },
    {
      "metadata": {
        "id": "eItMVVU2Uasw",
        "colab_type": "code",
        "colab": {
          "base_uri": "https://localhost:8080/",
          "height": 1020
        },
        "outputId": "32d59bea-1728-48d1-eb46-2dad1459e886"
      },
      "cell_type": "code",
      "source": [
        "# create the new dataset that includes the the region count\n",
        "# to each image in the two sets\n",
        "add_features(x_train_, x_test_)\n",
        "\n",
        "# create the model the same way as problem4\n",
        "model = tf.keras.models.Sequential()\n",
        "model.add(tf.keras.layers.Flatten())\n",
        "model.add(tf.keras.layers.Dense(10, activation=tf.nn.softmax))\n",
        "\n",
        "model.compile(optimizer='sgd', \n",
        "\t\t\t  loss='sparse_categorical_crossentropy', \n",
        "\t\t\t  metrics=['accuracy'])\n",
        "model.fit(x_train, y_train, epochs=10)\n",
        "\n",
        "val_los, val_acc = model.evaluate(x_test, y_test)\n",
        "print(val_los, val_acc)"
      ],
      "execution_count": 8,
      "outputs": [
        {
          "output_type": "stream",
          "text": [
            "WARNING:tensorflow:From /usr/local/lib/python3.6/dist-packages/tensorflow/python/ops/resource_variable_ops.py:435: colocate_with (from tensorflow.python.framework.ops) is deprecated and will be removed in a future version.\n",
            "Instructions for updating:\n",
            "Colocations handled automatically by placer.\n",
            "Epoch 1/10\n",
            "60000/60000 [==============================] - 3s 44us/sample - loss: 0.6632 - acc: 0.8317\n",
            "Epoch 2/10\n",
            "60000/60000 [==============================] - 3s 43us/sample - loss: 0.4143 - acc: 0.8850\n",
            "Epoch 3/10\n",
            "60000/60000 [==============================] - 3s 43us/sample - loss: 0.3754 - acc: 0.8937\n",
            "Epoch 4/10\n",
            "60000/60000 [==============================] - 3s 42us/sample - loss: 0.3558 - acc: 0.8978\n",
            "Epoch 5/10\n",
            "60000/60000 [==============================] - 3s 42us/sample - loss: 0.3434 - acc: 0.9008\n",
            "Epoch 6/10\n",
            "60000/60000 [==============================] - 3s 43us/sample - loss: 0.3344 - acc: 0.9032\n",
            "Epoch 7/10\n",
            "60000/60000 [==============================] - 3s 42us/sample - loss: 0.3274 - acc: 0.9052\n",
            "Epoch 8/10\n",
            "60000/60000 [==============================] - 3s 42us/sample - loss: 0.3217 - acc: 0.9068\n",
            "Epoch 9/10\n",
            "60000/60000 [==============================] - 3s 42us/sample - loss: 0.3170 - acc: 0.9081\n",
            "Epoch 10/10\n",
            "60000/60000 [==============================] - 3s 42us/sample - loss: 0.3132 - acc: 0.9096\n",
            "10000/10000 [==============================] - 0s 31us/sample - loss: 0.3042 - acc: 0.9139\n",
            "0.3042377122402191 0.9139\n"
          ],
          "name": "stdout"
        }
      ]
    }
  ]
}