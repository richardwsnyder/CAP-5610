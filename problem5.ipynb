{
  "nbformat": 4,
  "nbformat_minor": 0,
  "metadata": {
    "colab": {
      "name": "problem5.ipynb",
      "version": "0.3.2",
      "provenance": [],
      "include_colab_link": true
    },
    "kernelspec": {
      "name": "python3",
      "display_name": "Python 3"
    }
  },
  "cells": [
    {
      "cell_type": "markdown",
      "metadata": {
        "id": "view-in-github",
        "colab_type": "text"
      },
      "source": [
        "<a href=\"https://colab.research.google.com/github/richardwsnyder/CAP-5610/blob/master/problem5.ipynb\" target=\"_parent\"><img src=\"https://colab.research.google.com/assets/colab-badge.svg\" alt=\"Open In Colab\"/></a>"
      ]
    },
    {
      "metadata": {
        "id": "pnGqJ-mLT-G6",
        "colab_type": "code",
        "colab": {}
      },
      "cell_type": "code",
      "source": [
        "# utilizing the union-find and dfs algorithms defined by \n",
        "# Arup Guha at http://www.cs.ucf.edu/~dmarino/ucf/cop3503/sampleprogs/djset.java\n",
        "# and geeksforgeeks at https://www.geeksforgeeks.org/depth-first-search-or-dfs-for-a-graph/\n",
        "\n",
        "import numpy as np\n",
        "import tensorflow as tf\n",
        "import math\n",
        "import matplotlib.pyplot as plt\n",
        "import random\n",
        "from tensorflow.keras.datasets import mnist\n",
        "from tensorflow.keras.utils import to_categorical"
      ],
      "execution_count": 0,
      "outputs": []
    },
    {
      "metadata": {
        "id": "ISq1kcnbUCJQ",
        "colab_type": "code",
        "colab": {}
      },
      "cell_type": "code",
      "source": [
        "# initialize visited array to show that no\n",
        "# pixel has been visited\n",
        "visited = [0] * 784\n",
        "\n",
        "# each parent is assumed to be set to 0\n",
        "parents = [0] * 784\n",
        "\n",
        "# load mnist data\n",
        "(x_train, y_train), (x_test, y_test) = mnist.load_data()"
      ],
      "execution_count": 0,
      "outputs": []
    },
    {
      "metadata": {
        "id": "dqfDO6gRUMlk",
        "colab_type": "code",
        "colab": {}
      },
      "cell_type": "code",
      "source": [
        "# normalize the dataset so that pixel values are between\n",
        "# 0 and 1\n",
        "x_train = tf.keras.utils.normalize(x_train, axis = 1)\n",
        "x_test = tf.keras.utils.normalize(x_test, axis = 1)\n",
        "\n",
        "# make a new set that is manipulable\n",
        "x_train_ = x_train\n",
        "x_test_ = x_test\n",
        "\n",
        "# if a pixel value is greater than zero, \n",
        "# set it to one for further computation\n",
        "x_train_[x_train_ > 0] = 1\n",
        "x_test_[x_test_ > 0] = 1"
      ],
      "execution_count": 0,
      "outputs": []
    },
    {
      "metadata": {
        "id": "8aXGsx6BUOxX",
        "colab_type": "code",
        "colab": {}
      },
      "cell_type": "code",
      "source": [
        "# find algorithm defined by Arup Guha\n",
        "def find(v): \n",
        "\tif(parents[v] == v):\n",
        "\t\treturn v;\n",
        "\tres = find(parents[v])\n",
        "\tparents[v] = res\n",
        "\treturn res;"
      ],
      "execution_count": 0,
      "outputs": []
    },
    {
      "metadata": {
        "id": "pdK0WfigUP-Y",
        "colab_type": "code",
        "colab": {}
      },
      "cell_type": "code",
      "source": [
        "# run dfs on the image\n",
        "# i represents the current row\n",
        "# and j represents the current column in the image x\n",
        "def dfs(x, i, j):\n",
        "\n",
        "\t# create two disparity vectors that correspond\n",
        "\t# to the differnece in position. Will correlate to \n",
        "\t# moving left, right, up, and down\n",
        "\tdx = [0, 1, 0, -1]\n",
        "\tdy = [1, 0, -1, 0]\n",
        "\n",
        "\t# index of current pixel in the visited and \n",
        "\t# parents array\n",
        "\tpx = (i * 28) + j\n",
        "\n",
        "\t# you're at the pixel, so set it's visited \n",
        "\t# boolean to true\n",
        "\tvisited[px] = 1\n",
        "\n",
        "\t# if the pixel is black, then set the parent\n",
        "\t# value to -1 because it is not considered\n",
        "\t# a white region\n",
        "\tif x[i][j] == 1:\n",
        "\t\tparents[px] = -1\n",
        "\t\treturn\n",
        "\n",
        "\t# else, you must go to the pixel to the left, right\n",
        "\t# up, and down from it\n",
        "\tfor n in range(4):\n",
        "\t\t# calculate new x value\n",
        "\t\tnew_x = j + dx[n]\n",
        "\t\t# calculate new y value\n",
        "\t\tnew_y = i + dy[n]\n",
        "\n",
        "\t\t# get the next pixel that you're moving to\n",
        "\t\tnx = (i * 28) + j + (28 * dy[n]) + dx[n]\n",
        "\n",
        "\t\t# if the new pixel is in bounds and it's black, \n",
        "\t\t# set the parents cell to -1, go onto next iteration\n",
        "\t\t# of the loop\n",
        "\t\tif 0 <= new_y < 28 and 0 <= new_x < 28:\n",
        "\t\t\tif x[new_y][new_x] == 1:\n",
        "\t\t\t\tparents[nx] = -1\n",
        "\n",
        "\t\t# else, if you haven't visited the pixel and it's a white \n",
        "\t\t# pixel, find it's parent, and recursively call dfs on that\n",
        "\t\tif 0 <= new_y < 28 and 0 <= new_x < 28:\n",
        "\t\t\tif x[new_y][new_x] == 0 and visited[nx] == 0:\n",
        "\t\t\t\tparents[nx] = find(px)\n",
        "\t\t\t\tdfs(x, new_y, new_x)"
      ],
      "execution_count": 0,
      "outputs": []
    },
    {
      "metadata": {
        "id": "D2mFzj4tUUao",
        "colab_type": "code",
        "colab": {}
      },
      "cell_type": "code",
      "source": [
        "# run dfs from top left pixel\n",
        "def djset(x):\n",
        "\tfor i in range(28):\n",
        "\t\tfor j in range(28):\n",
        "\t\t\tpx = (i * 28) + j\n",
        "\t\t\tif visited[px] == 0:\n",
        "\t\t\t\tdfs(x, i, j)\n",
        "\n",
        "\treturn len(np.unique(parents)) - 1"
      ],
      "execution_count": 0,
      "outputs": []
    },
    {
      "metadata": {
        "id": "JyBR-UqqUWtz",
        "colab_type": "code",
        "colab": {}
      },
      "cell_type": "code",
      "source": [
        "# append the calculated regions value to the image's \n",
        "# input vector\n",
        "def add_features(train, test):\n",
        "\tfor q in range(60000):\n",
        "\t\tnp.append(train[q], djset(x_train_[q]))\n",
        "\n",
        "\tfor q in range(10000):\n",
        "\t\tnp.append(x_test[q], djset(x_test_[q]))"
      ],
      "execution_count": 0,
      "outputs": []
    },
    {
      "metadata": {
        "id": "eItMVVU2Uasw",
        "colab_type": "code",
        "outputId": "b6d0f529-9e1d-44da-e49f-b8fcc4826ef3",
        "colab": {
          "base_uri": "https://localhost:8080/",
          "height": 391
        }
      },
      "cell_type": "code",
      "source": [
        "# create the new dataset that includes the the region count\n",
        "# to each image in the two sets\n",
        "add_features(x_train_, x_test_)\n",
        "\n",
        "# create the model the same way as problem4\n",
        "model = tf.keras.models.Sequential()\n",
        "model.add(tf.keras.layers.Flatten())\n",
        "model.add(tf.keras.layers.Dense(10, activation=tf.nn.softmax))\n",
        "\n",
        "model.compile(optimizer='sgd', \n",
        "\t\t\t  loss='sparse_categorical_crossentropy', \n",
        "\t\t\t  metrics=['accuracy'])\n",
        "model.fit(x_train, y_train, epochs=10)\n",
        "\n",
        "val_los, val_acc = model.evaluate(x_test, y_test)\n",
        "print(val_los, val_acc)"
      ],
      "execution_count": 0,
      "outputs": [
        {
          "output_type": "stream",
          "text": [
            "Epoch 1/10\n",
            "60000/60000 [==============================] - 3s 43us/sample - loss: 0.6740 - acc: 0.8270\n",
            "Epoch 2/10\n",
            "60000/60000 [==============================] - 2s 41us/sample - loss: 0.4166 - acc: 0.8831\n",
            "Epoch 3/10\n",
            "60000/60000 [==============================] - 3s 42us/sample - loss: 0.3774 - acc: 0.8926\n",
            "Epoch 4/10\n",
            "60000/60000 [==============================] - 3s 42us/sample - loss: 0.3571 - acc: 0.8977\n",
            "Epoch 5/10\n",
            "60000/60000 [==============================] - 2s 42us/sample - loss: 0.3443 - acc: 0.9005\n",
            "Epoch 6/10\n",
            "60000/60000 [==============================] - 2s 41us/sample - loss: 0.3350 - acc: 0.9030\n",
            "Epoch 7/10\n",
            "60000/60000 [==============================] - 3s 42us/sample - loss: 0.3279 - acc: 0.9052\n",
            "Epoch 8/10\n",
            "60000/60000 [==============================] - 3s 43us/sample - loss: 0.3223 - acc: 0.9067\n",
            "Epoch 9/10\n",
            "60000/60000 [==============================] - 3s 42us/sample - loss: 0.3175 - acc: 0.9081\n",
            "Epoch 10/10\n",
            "60000/60000 [==============================] - 3s 42us/sample - loss: 0.3134 - acc: 0.9093\n",
            "10000/10000 [==============================] - 0s 32us/sample - loss: 0.3036 - acc: 0.9153\n",
            "0.3035985812485218 0.9153\n"
          ],
          "name": "stdout"
        }
      ]
    }
  ]
}