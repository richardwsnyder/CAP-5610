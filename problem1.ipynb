{
  "nbformat": 4,
  "nbformat_minor": 0,
  "metadata": {
    "colab": {
      "name": "problem1.ipynb",
      "version": "0.3.2",
      "provenance": [],
      "include_colab_link": true
    },
    "kernelspec": {
      "name": "python3",
      "display_name": "Python 3"
    }
  },
  "cells": [
    {
      "cell_type": "markdown",
      "metadata": {
        "id": "view-in-github",
        "colab_type": "text"
      },
      "source": [
        "<a href=\"https://colab.research.google.com/github/richardwsnyder/CAP-5610/blob/master/problem1.ipynb\" target=\"_parent\"><img src=\"https://colab.research.google.com/assets/colab-badge.svg\" alt=\"Open In Colab\"/></a>"
      ]
    },
    {
      "metadata": {
        "id": "N51xrgfxOsmn",
        "colab_type": "code",
        "colab": {}
      },
      "cell_type": "code",
      "source": [
        "import numpy as np\n",
        "from tensorflow.keras.datasets import mnist"
      ],
      "execution_count": 0,
      "outputs": []
    },
    {
      "metadata": {
        "id": "_MjFJGvGO0qT",
        "colab_type": "code",
        "colab": {}
      },
      "cell_type": "code",
      "source": [
        "# activation function for logistic regression\n",
        "def sigma(z):\n",
        "\t\treturn 1.0 / (1.0 + np.exp(-z))\n",
        "\n",
        "# derivative of activation function\n",
        "def sigmaPrime(z):\n",
        "\treturn sigma(z) * (1 - sigma(z))\n",
        "\n",
        "# calculate the value of z\n",
        "def calculateZ(w, x, b):\n",
        "\treturn w.T.dot(x) + b\n",
        "\n",
        "# squared error loss\n",
        "def seLoss(a, y):\n",
        "\treturn 0.5 * (a - y)**2; \n",
        "\n",
        "# gradient of squared error loss with respect to w_i\n",
        "def gradient_w(a, y, aPrime, x_i):\n",
        "\tx = (a - y) * aPrime\n",
        "\treturn x * x_i\n",
        "\n",
        "#gradient of squared error loss with respect to b\n",
        "def gradient_b(a, y, aPrime):\n",
        "\treturn (a - y) * aPrime"
      ],
      "execution_count": 0,
      "outputs": []
    },
    {
      "metadata": {
        "id": "yuOw6n3dO-cX",
        "colab_type": "code",
        "colab": {}
      },
      "cell_type": "code",
      "source": [
        "# seed the random number generator\n",
        "np.random.seed()\n",
        "\n",
        "# load mnist data\n",
        "(x_train, y_train), (x_test, y_test) = mnist.load_data()\n",
        "x_train = x_train.reshape((60000, 28*28, 1))\n",
        "x_train = x_train.astype('float32') / 255\n",
        "\n",
        "x_test = x_test.reshape((10000, 28*28, 1))\n",
        "x_test = x_test.astype('float32') / 255"
      ],
      "execution_count": 0,
      "outputs": []
    },
    {
      "metadata": {
        "id": "sbLcpo-QPBNt",
        "colab_type": "code",
        "colab": {}
      },
      "cell_type": "code",
      "source": [
        "# Classifier class\n",
        "class Classifier:\n",
        "\t\n",
        "\t# initialize the object with a specific number that it will classify\n",
        "\t# and a randomized weight vector, with bias 0\n",
        "\tdef __init__(self, num):\n",
        "\t\tself.number = num\n",
        "\t\tself.weight = np.random.randn(784, 1)\n",
        "\t\tself.b = 0\n",
        "\n",
        "\t # train the Classifier by manipulating the loss and bias\n",
        "\tdef train(self, epochs):\n",
        "\t\tlr = 0.5\n",
        "\t\tfor epoch in range(epochs):\n",
        "\t\t\ts = np.random.permutation(60000)\n",
        "\t\t\tx_shuffled = x_train[s]\n",
        "\t\t\ty_shuffled = y_train[s]\n",
        "\t\t\tfor i in range(60000):\n",
        "\t\t\t\t# print(i)\n",
        "\t\t\t\tx_i = x_shuffled[i]\n",
        "\t\t\t\tz = calculateZ(self.weight, x_i, self.b)\n",
        "\t\t\t\ta = sigma(z)\n",
        "\t\t\t\taPrime = sigmaPrime(z)\n",
        "\t\t\t\ty = 0\n",
        "\t\t\t\tif self.number == y_shuffled[i]:\n",
        "\t\t\t\t\ty = 1\n",
        "\t\t\t\tloss = seLoss(a, y)\n",
        "\t\t\t\t# print(loss)\n",
        "\t\t\t\tself.weight -= lr * gradient_w(a, y, aPrime, x_i)\n",
        "\t\t\t\tself.b -= lr * gradient_b(a, y, aPrime)\n",
        "\t\t\tprint(\"finished epoch {} for classifier {}\".format(epoch, self.number))\n",
        "\n",
        "\t# predict a test value\n",
        "\tdef predict(self, x_i):\n",
        "\t\tz = calculateZ(self.weight, x_i, self.b)\n",
        "\t\treturn sigma(z)"
      ],
      "execution_count": 0,
      "outputs": []
    },
    {
      "metadata": {
        "id": "UtnDU4zLPEtQ",
        "colab_type": "code",
        "outputId": "fb994668-cd13-42e5-8e77-04251358f69d",
        "colab": {
          "base_uri": "https://localhost:8080/",
          "height": 527
        }
      },
      "cell_type": "code",
      "source": [
        "# create the 10 Classifiers that represent each digit\n",
        "class_0 = Classifier(0)\n",
        "class_1 = Classifier(1)\n",
        "class_2 = Classifier(2)\n",
        "class_3 = Classifier(3)\n",
        "class_4 = Classifier(4)\n",
        "class_5 = Classifier(5)\n",
        "class_6 = Classifier(6)\n",
        "class_7 = Classifier(7)\n",
        "class_8 = Classifier(8)\n",
        "class_9 = Classifier(9)\n",
        "\n",
        "# train each Classifier\n",
        "class_0.train(3)\n",
        "class_1.train(3)\n",
        "class_2.train(3)\n",
        "class_3.train(3)\n",
        "class_4.train(3)\n",
        "class_5.train(3)\n",
        "class_6.train(3)\n",
        "class_7.train(3)\n",
        "class_8.train(3)\n",
        "class_9.train(3)"
      ],
      "execution_count": 0,
      "outputs": [
        {
          "output_type": "stream",
          "text": [
            "finished epoch 0 for classifier 0\n",
            "finished epoch 1 for classifier 0\n",
            "finished epoch 2 for classifier 0\n",
            "finished epoch 0 for classifier 1\n",
            "finished epoch 1 for classifier 1\n",
            "finished epoch 2 for classifier 1\n",
            "finished epoch 0 for classifier 2\n",
            "finished epoch 1 for classifier 2\n",
            "finished epoch 2 for classifier 2\n",
            "finished epoch 0 for classifier 3\n",
            "finished epoch 1 for classifier 3\n",
            "finished epoch 2 for classifier 3\n",
            "finished epoch 0 for classifier 4\n",
            "finished epoch 1 for classifier 4\n",
            "finished epoch 2 for classifier 4\n",
            "finished epoch 0 for classifier 5\n",
            "finished epoch 1 for classifier 5\n",
            "finished epoch 2 for classifier 5\n",
            "finished epoch 0 for classifier 6\n",
            "finished epoch 1 for classifier 6\n",
            "finished epoch 2 for classifier 6\n",
            "finished epoch 0 for classifier 7\n",
            "finished epoch 1 for classifier 7\n",
            "finished epoch 2 for classifier 7\n",
            "finished epoch 0 for classifier 8\n",
            "finished epoch 1 for classifier 8\n",
            "finished epoch 2 for classifier 8\n",
            "finished epoch 0 for classifier 9\n",
            "finished epoch 1 for classifier 9\n",
            "finished epoch 2 for classifier 9\n"
          ],
          "name": "stdout"
        }
      ]
    },
    {
      "metadata": {
        "id": "eE68BlyvPHsx",
        "colab_type": "code",
        "outputId": "2618a052-6459-4f2b-e99d-940a909bab5a",
        "colab": {
          "base_uri": "https://localhost:8080/",
          "height": 34
        }
      },
      "cell_type": "code",
      "source": [
        "# prediction is used for each individual test image\n",
        "prediction = []\n",
        "\n",
        "# predicted value based off of argmax()\n",
        "predictVal = 0\n",
        "\n",
        "# count how many predictions you get correct\n",
        "counter = 0\n",
        "\n",
        "# loop through all 10,000 test images\n",
        "for p in range(10000):\n",
        "\tprediction.append(class_0.predict(x_test[p]))\n",
        "\tprediction.append(class_1.predict(x_test[p]))\n",
        "\tprediction.append(class_2.predict(x_test[p]))\n",
        "\tprediction.append(class_3.predict(x_test[p]))\n",
        "\tprediction.append(class_4.predict(x_test[p]))\n",
        "\tprediction.append(class_5.predict(x_test[p]))\n",
        "\tprediction.append(class_6.predict(x_test[p]))\n",
        "\tprediction.append(class_7.predict(x_test[p]))\n",
        "\tprediction.append(class_8.predict(x_test[p]))\n",
        "\tprediction.append(class_9.predict(x_test[p]))\n",
        "\tpredictVal = np.argmax(prediction)\n",
        "\tprediction.clear()\n",
        "\tif(predictVal == y_test[p]):\n",
        "\t\tcounter = counter + 1\n",
        "\n",
        "print(counter / 10000)"
      ],
      "execution_count": 0,
      "outputs": [
        {
          "output_type": "stream",
          "text": [
            "0.7623\n"
          ],
          "name": "stdout"
        }
      ]
    }
  ]
}