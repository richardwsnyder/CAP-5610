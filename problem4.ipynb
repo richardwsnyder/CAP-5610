{
  "nbformat": 4,
  "nbformat_minor": 0,
  "metadata": {
    "colab": {
      "name": "problem4.ipynb",
      "version": "0.3.2",
      "provenance": [],
      "include_colab_link": true
    },
    "kernelspec": {
      "name": "python3",
      "display_name": "Python 3"
    }
  },
  "cells": [
    {
      "cell_type": "markdown",
      "metadata": {
        "id": "view-in-github",
        "colab_type": "text"
      },
      "source": [
        "<a href=\"https://colab.research.google.com/github/richardwsnyder/CAP-5610/blob/master/problem4.ipynb\" target=\"_parent\"><img src=\"https://colab.research.google.com/assets/colab-badge.svg\" alt=\"Open In Colab\"/></a>"
      ]
    },
    {
      "metadata": {
        "id": "MX6CwyxqRI4u",
        "colab_type": "code",
        "colab": {}
      },
      "cell_type": "code",
      "source": [
        "import numpy as np\n",
        "import tensorflow as tf\n",
        "from tensorflow.keras.datasets import mnist"
      ],
      "execution_count": 0,
      "outputs": []
    },
    {
      "metadata": {
        "id": "o_WQAviARPxT",
        "colab_type": "code",
        "colab": {}
      },
      "cell_type": "code",
      "source": [
        "# load mnist data\n",
        "(x_train, y_train), (x_test, y_test) = mnist.load_data()\n",
        "\n",
        "# normalize the grayscale values to between 0 and 1\n",
        "x_train = tf.keras.utils.normalize(x_train, axis = 1)\n",
        "x_test = tf.keras.utils.normalize(x_test, axis = 1)"
      ],
      "execution_count": 0,
      "outputs": []
    },
    {
      "metadata": {
        "id": "PjqXBb3bRTf3",
        "colab_type": "code",
        "colab": {}
      },
      "cell_type": "code",
      "source": [
        "# forward propogating model\n",
        "model = tf.keras.models.Sequential()\n",
        "\n",
        "# add a flattened (784 x 1) version of each image\n",
        "model.add(tf.keras.layers.Flatten())\n",
        "\n",
        "# create an output layer of 10 nodes that use the softmax activation function\n",
        "model.add(tf.keras.layers.Dense(10, activation=tf.nn.softmax))"
      ],
      "execution_count": 0,
      "outputs": []
    },
    {
      "metadata": {
        "id": "V6C_Aqo4RV43",
        "colab_type": "code",
        "outputId": "f744ba4f-e1c1-4304-879c-b1722e6c55e5",
        "colab": {
          "base_uri": "https://localhost:8080/",
          "height": 1020
        }
      },
      "cell_type": "code",
      "source": [
        "# initialize the model to use categorical crossentropy as its loss function\n",
        "model.compile(optimizer = 'adam',\n",
        "\t\t\t  loss = 'sparse_categorical_crossentropy',\n",
        "\t\t\t  metrics = ['accuracy'])\n",
        "\n",
        "# fit the model to the training data\n",
        "model.fit(x_train, y_train, epochs=10)"
      ],
      "execution_count": 0,
      "outputs": [
        {
          "output_type": "stream",
          "text": [
            "WARNING:tensorflow:From /usr/local/lib/python3.6/dist-packages/tensorflow/python/ops/resource_variable_ops.py:435: colocate_with (from tensorflow.python.framework.ops) is deprecated and will be removed in a future version.\n",
            "Instructions for updating:\n",
            "Colocations handled automatically by placer.\n",
            "Epoch 1/10\n",
            "60000/60000 [==============================] - 3s 51us/sample - loss: 0.6050 - acc: 0.8589\n",
            "Epoch 2/10\n",
            "60000/60000 [==============================] - 3s 46us/sample - loss: 0.3425 - acc: 0.9039\n",
            "Epoch 3/10\n",
            "60000/60000 [==============================] - 3s 46us/sample - loss: 0.3084 - acc: 0.9133\n",
            "Epoch 4/10\n",
            "60000/60000 [==============================] - 3s 46us/sample - loss: 0.2926 - acc: 0.9174\n",
            "Epoch 5/10\n",
            "60000/60000 [==============================] - 3s 45us/sample - loss: 0.2825 - acc: 0.9202\n",
            "Epoch 6/10\n",
            "60000/60000 [==============================] - 3s 46us/sample - loss: 0.2755 - acc: 0.9220\n",
            "Epoch 7/10\n",
            "60000/60000 [==============================] - 3s 46us/sample - loss: 0.2699 - acc: 0.9233\n",
            "Epoch 8/10\n",
            "60000/60000 [==============================] - 3s 46us/sample - loss: 0.2660 - acc: 0.9246\n",
            "Epoch 9/10\n",
            "60000/60000 [==============================] - 3s 46us/sample - loss: 0.2624 - acc: 0.9255\n",
            "Epoch 10/10\n",
            "60000/60000 [==============================] - 3s 46us/sample - loss: 0.2595 - acc: 0.9266\n"
          ],
          "name": "stdout"
        },
        {
          "output_type": "execute_result",
          "data": {
            "text/plain": [
              "<tensorflow.python.keras.callbacks.History at 0x7f621d5f3b70>"
            ]
          },
          "metadata": {
            "tags": []
          },
          "execution_count": 4
        }
      ]
    },
    {
      "metadata": {
        "id": "1I3h_MmIRXps",
        "colab_type": "code",
        "outputId": "83f90ac8-7f24-4f8c-eb1e-b700488af577",
        "colab": {
          "base_uri": "https://localhost:8080/",
          "height": 94
        }
      },
      "cell_type": "code",
      "source": [
        "# evaluate the model based on the test data\n",
        "val_los, val_acc = model.evaluate(x_test, y_test)\n",
        "print(val_los)\n",
        "print(val_acc)"
      ],
      "execution_count": 0,
      "outputs": [
        {
          "output_type": "stream",
          "text": [
            "10000/10000 [==============================] - 0s 34us/sample - loss: 0.2742 - acc: 0.9241\n",
            "0.27421759249567984\n",
            "0.9241\n"
          ],
          "name": "stdout"
        }
      ]
    }
  ]
}